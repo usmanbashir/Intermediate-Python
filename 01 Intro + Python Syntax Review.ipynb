{
 "cells": [
  {
   "cell_type": "markdown",
   "metadata": {
    "slideshow": {
     "slide_type": "subslide"
    },
    "tags": []
   },
   "source": [
    "# Intermediate Python"
   ]
  },
  {
   "cell_type": "markdown",
   "metadata": {},
   "source": [
    "## How to follow along...\n",
    "* on your machine\n",
    "  * if you don't have Python installed, please follow this [walkthrough](./Virtual_Env_Walkthrough_-_VS_CODE.pdf)\n",
    "  * download Visual Studio https://visualstudio.microsoft.com/ free\n",
    "    * reads and displays Jupyter notebooks\n",
    "  * also download materials from here: https://github.com/usmanbashir/LFG-Intermediate-Python"
   ]
  },
  {
   "cell_type": "markdown",
   "metadata": {},
   "source": [
    "## Important Note\n",
    "* the materials consist of a bunch of Jupyter notebooks, some of which we likely will not get to\n",
    "* the goal is to get through 9 or 10, and if there is time remaining, we can pick and choose what we want to work on\n",
    "* some of the notebooks are very long (e.g., 1 and 2), others are very short"
   ]
  },
  {
   "cell_type": "markdown",
   "metadata": {
    "slideshow": {
     "slide_type": "slide"
    }
   },
   "source": [
    "# Python Conceptual Review"
   ]
  },
  {
   "cell_type": "markdown",
   "metadata": {
    "slideshow": {
     "slide_type": "subslide"
    }
   },
   "source": [
    "## __Dynamic__ typing, no declarations"
   ]
  },
  {
   "cell_type": "code",
   "execution_count": null,
   "metadata": {},
   "outputs": [],
   "source": [
    "number = 3.9\n",
    "print(number)\n",
    "number = \"Python\"\n",
    "print(number)"
   ]
  },
  {
   "cell_type": "markdown",
   "metadata": {
    "slideshow": {
     "slide_type": "subslide"
    }
   },
   "source": [
    "## ...but strongly typed"
   ]
  },
  {
   "cell_type": "code",
   "execution_count": null,
   "metadata": {},
   "outputs": [],
   "source": [
    "name = 'Dave'\n",
    "something = name + 1\n",
    "something"
   ]
  },
  {
   "cell_type": "markdown",
   "metadata": {
    "slideshow": {
     "slide_type": "slide"
    }
   },
   "source": [
    "## __Everything__ is an object\n",
    "  1. every thing lives in memory and we can inspect those things\n",
    "  1. every object consists of multiple fields, possibly with functions attached/inside"
   ]
  },
  {
   "cell_type": "code",
   "execution_count": null,
   "metadata": {},
   "outputs": [],
   "source": []
  },
  {
   "cell_type": "markdown",
   "metadata": {
    "slideshow": {
     "slide_type": "slide"
    }
   },
   "source": [
    "## \"Duck-typing\"\n",
    "* built-in (and our own) functions can accept lots of different types"
   ]
  },
  {
   "cell_type": "code",
   "execution_count": null,
   "metadata": {},
   "outputs": [],
   "source": []
  },
  {
   "cell_type": "markdown",
   "metadata": {
    "slideshow": {
     "slide_type": "slide"
    }
   },
   "source": [
    "## Built-in functions\n",
    "* ... DO NOT change the objects that are passed into them\n",
    "    * if you want to change an object, you must call/invoke a method on it\n",
    "      * not all methods change the objects they are applied to or called/invoke on"
   ]
  },
  {
   "cell_type": "code",
   "execution_count": null,
   "metadata": {},
   "outputs": [],
   "source": []
  },
  {
   "cell_type": "markdown",
   "metadata": {
    "slideshow": {
     "slide_type": "slide"
    }
   },
   "source": [
    "## Axes on which we can compare data types\n"
   ]
  },
  {
   "cell_type": "markdown",
   "metadata": {
    "slideshow": {
     "slide_type": "slide"
    }
   },
   "source": [
    "### scalars vs. containers\n",
    "* scalar = \"a single value\" (int, float, bool)\n",
    "* containers = \"0+ values\": str, list, tuple, dict, set"
   ]
  },
  {
   "cell_type": "code",
   "execution_count": null,
   "metadata": {},
   "outputs": [],
   "source": []
  },
  {
   "cell_type": "markdown",
   "metadata": {
    "slideshow": {
     "slide_type": "slide"
    }
   },
   "source": [
    "### mutable vs. immutable objects\n",
    "  * mutable: list, dict, set\n",
    "  * immutable: str, tuple, frozenset"
   ]
  },
  {
   "cell_type": "code",
   "execution_count": null,
   "metadata": {},
   "outputs": [],
   "source": []
  },
  {
   "cell_type": "markdown",
   "metadata": {},
   "source": [
    "## \"Truthiness\"\n",
    "* Python lets us use non-Booleans in a Boolean context\n",
    "* What are the rules?"
   ]
  },
  {
   "cell_type": "code",
   "execution_count": null,
   "metadata": {},
   "outputs": [],
   "source": []
  },
  {
   "cell_type": "markdown",
   "metadata": {},
   "source": [
    "## Jackie Stewart \"mechanical sympathy\"\n",
    "  * you can't truly understand something or be an expert at it if you don't know how it works under the hood"
   ]
  },
  {
   "cell_type": "code",
   "execution_count": null,
   "metadata": {},
   "outputs": [],
   "source": []
  },
  {
   "cell_type": "markdown",
   "metadata": {},
   "source": [
    "## Slicing (__`[start:stop:step]`__)\n",
    "* Edsger Dijkstra\n",
    "* all of the 'st' are optional!"
   ]
  },
  {
   "cell_type": "markdown",
   "metadata": {},
   "source": [
    "## \"Pythonic\"\n",
    "* if an object is difficult to work with, consider changing its type\n",
    "* __`container[-1]`__ is the last item in the container\n",
    "  * __`container[-n]`__ is the nth from the last item in the container\n",
    "* compose function where appropriate, e.g., __`int(input(...))`__\n",
    "* __`[:n]`__ means the first n items in a container\n",
    "* __`[-n:]`__ means the last n items in a container\n",
    "* __`[::-1]`__ means a reversed version of the container\n",
    "* don't use indexing in str/list/container, if you don't need it"
   ]
  },
  {
   "cell_type": "code",
   "execution_count": null,
   "metadata": {},
   "outputs": [],
   "source": []
  },
  {
   "cell_type": "markdown",
   "metadata": {
    "slideshow": {
     "slide_type": "subslide"
    }
   },
   "source": [
    "## Functions\n",
    "* docstrings PEP 257"
   ]
  },
  {
   "cell_type": "code",
   "execution_count": null,
   "metadata": {},
   "outputs": [],
   "source": [
    "def myfunc(thing):\n",
    "    \"\"\"Double thing!\"\"\"\n",
    "    print('do something', thing)\n",
    "    return thing * 2\n",
    "    \n",
    "print(myfunc(2))"
   ]
  },
  {
   "cell_type": "markdown",
   "metadata": {},
   "source": [
    "## ... return __`None`__ if no return statement"
   ]
  },
  {
   "cell_type": "code",
   "execution_count": null,
   "metadata": {
    "scrolled": true
   },
   "outputs": [],
   "source": [
    "def myfunc(num):\n",
    "    print('do something', num)\n",
    "\n",
    "print(myfunc(35))"
   ]
  },
  {
   "cell_type": "markdown",
   "metadata": {},
   "source": [
    "## __`None`__?\n",
    "* it acts like __`False`__, but it's a different object"
   ]
  },
  {
   "cell_type": "code",
   "execution_count": null,
   "metadata": {},
   "outputs": [],
   "source": [
    "retval = myfunc(2)\n",
    "if retval:\n",
    "    print('True branch of if')\n",
    "else:\n",
    "    print('False branch of if')"
   ]
  },
  {
   "cell_type": "code",
   "execution_count": null,
   "metadata": {},
   "outputs": [],
   "source": [
    "if retval is None:\n",
    "    print('preferred over retval == None')\n",
    "print('Is None the same as False?', None is False)\n",
    "id(None), id(False)"
   ]
  },
  {
   "cell_type": "markdown",
   "metadata": {
    "slideshow": {
     "slide_type": "subslide"
    }
   },
   "source": [
    "## Two types of __`for`__ loops\n",
    "* iterating through a numeric range\n",
    "  * Edsger Dijkstra ... why number should start at zero\n",
    "* iterating through a container"
   ]
  },
  {
   "cell_type": "code",
   "execution_count": null,
   "metadata": {},
   "outputs": [],
   "source": [
    "for num in range(10):\n",
    "    print(num, end=' ')"
   ]
  },
  {
   "cell_type": "code",
   "execution_count": null,
   "metadata": {},
   "outputs": [],
   "source": [
    "cars = 'Tesla Rivian Polestar Fisker'.split()\n",
    "for car in cars:\n",
    "    print(car)"
   ]
  },
  {
   "cell_type": "markdown",
   "metadata": {
    "slideshow": {
     "slide_type": "subslide"
    }
   },
   "source": [
    "## Scope \n",
    "* Python is _NOT_ block scoped"
   ]
  },
  {
   "cell_type": "code",
   "execution_count": null,
   "metadata": {
    "slideshow": {
     "slide_type": "subslide"
    }
   },
   "outputs": [],
   "source": [
    "if True:\n",
    "    declared_in_a_block = 'global not local' # x will persist outside this block\n",
    "\n",
    "print(\"outside the block\", declared_in_a_block)"
   ]
  },
  {
   "cell_type": "markdown",
   "metadata": {},
   "source": [
    "## f-strings\n",
    "* strings that have an __`f`__ (or __`F`__) before the quotes\n",
    "* braces represent expressions that Python will substitute for us within the f-string"
   ]
  },
  {
   "cell_type": "code",
   "execution_count": null,
   "metadata": {},
   "outputs": [],
   "source": []
  },
  {
   "cell_type": "markdown",
   "metadata": {
    "slideshow": {
     "slide_type": "subslide"
    }
   },
   "source": [
    "## Modules\n",
    "* files of Python code\n",
    "* export variables, functions, and/or classes\n",
    "* __`import module`__ vs. __`from module import thing`__\n",
    "* leading underscore indicates desire for object to be private\n",
    "  * two leading underscores indicates stronger desire (name mangling)\n",
    "* **\\_\\_name\\_\\_** set to **\\_\\_main\\_\\_** vs. module name"
   ]
  },
  {
   "cell_type": "code",
   "execution_count": null,
   "metadata": {
    "slideshow": {
     "slide_type": "subslide"
    }
   },
   "outputs": [],
   "source": [
    "# this code lives in mymodule.py\n",
    "def dummy():\n",
    "    return 45\n",
    "   \n",
    "public_data = \"public stuff!\"\n",
    "_private_data = \"private stuff!\"\n",
    "print('__name__ =', __name__) # \"dunder\"\n",
    "\n",
    "# If this code is being *run*, then __name__ will be '__main__'\n",
    "if __name__ == '__main__':\n",
    "    # test dummy\n",
    "    if dummy() == 45:\n",
    "        print('success')"
   ]
  },
  {
   "cell_type": "code",
   "execution_count": null,
   "metadata": {},
   "outputs": [],
   "source": [
    "import mymodule\n",
    "mymodule.dummy() # must preface identifiers with module name"
   ]
  },
  {
   "cell_type": "code",
   "execution_count": null,
   "metadata": {},
   "outputs": [],
   "source": [
    "dir()"
   ]
  },
  {
   "cell_type": "code",
   "execution_count": null,
   "metadata": {},
   "outputs": [],
   "source": [
    "print(mymodule._private_data, mymodule.public_data, sep='\\n')"
   ]
  },
  {
   "cell_type": "code",
   "execution_count": null,
   "metadata": {
    "scrolled": true,
    "slideshow": {
     "slide_type": "subslide"
    }
   },
   "outputs": [],
   "source": [
    "from mymodule import public_data as thismodule_data\n",
    "dir()"
   ]
  },
  {
   "cell_type": "code",
   "execution_count": null,
   "metadata": {},
   "outputs": [],
   "source": [
    "import sys\n",
    "sys.path.insert(0, '/organization/specific/dir')\n",
    "sys.path"
   ]
  },
  {
   "cell_type": "markdown",
   "metadata": {
    "slideshow": {
     "slide_type": "subslide"
    }
   },
   "source": [
    "## Tuples\n",
    "* immutable\n",
    "* typically used like rows of a spreadsheet / database\n",
    "* one tuple generally describes one object (person, building, country, etc.)\n",
    "* parens not required when declaring, but recommended for readability"
   ]
  },
  {
   "cell_type": "code",
   "execution_count": null,
   "metadata": {
    "slideshow": {
     "slide_type": "subslide"
    }
   },
   "outputs": [],
   "source": [
    "# empty tuple\n",
    "t = ()\n",
    "print(t)\n",
    "# singleton tuple\n",
    "t = 1,\n",
    "print(t)"
   ]
  },
  {
   "cell_type": "code",
   "execution_count": null,
   "metadata": {},
   "outputs": [],
   "source": [
    "# use case for a singleton tuple: concatenation\n",
    "t + (2,)"
   ]
  },
  {
   "cell_type": "code",
   "execution_count": null,
   "metadata": {
    "slideshow": {
     "slide_type": "subslide"
    }
   },
   "outputs": [],
   "source": [
    "# another use case for singleton tuple:\n",
    "# enables you to pass a single value to a function which takes an iterable\n",
    "def func(iterable):\n",
    "    for thing in iterable:\n",
    "        print(thing, end=' ')\n",
    "    print()\n",
    "        \n",
    "func('hello')\n",
    "func((9,))\n",
    "func(9)"
   ]
  },
  {
   "cell_type": "markdown",
   "metadata": {
    "slideshow": {
     "slide_type": "subslide"
    }
   },
   "source": [
    "## Sets\n",
    "* unordered\n",
    "* no duplicates"
   ]
  },
  {
   "cell_type": "code",
   "execution_count": null,
   "metadata": {
    "slideshow": {
     "slide_type": "-"
    }
   },
   "outputs": [],
   "source": [
    "t = set()\n",
    "type(t)"
   ]
  },
  {
   "cell_type": "code",
   "execution_count": null,
   "metadata": {},
   "outputs": [],
   "source": [
    "even = { 2, 4, 6 }\n",
    "print(even)\n",
    "even.add(8)\n",
    "even.add(2)\n",
    "print(even)"
   ]
  },
  {
   "cell_type": "code",
   "execution_count": null,
   "metadata": {},
   "outputs": [],
   "source": [
    "prime = set([int(x) for x in '2357'])\n",
    "print(prime)\n",
    "print('all numbers =', prime | even)\n",
    "print('even primes =', prime & even)\n"
   ]
  },
  {
   "cell_type": "markdown",
   "metadata": {
    "slideshow": {
     "slide_type": "subslide"
    }
   },
   "source": [
    "## Dictionaries\n",
    "* sequence of key/value pairs\n",
    "* dict indices are the keys, not index values\n",
    "* before Python 3.6 dicts were unordered\n",
    "* Python 3.6 and later maintain insertion order, which is preserved when iterating over the dicts\n",
    "* two ways to use dictionaries\n",
    "  1. fill them at the beginning of your code, use them as a translation table throughout the code\n",
    "  1. start empty, fill as you process user input/file etc. and at end of program, dict reflects your data\n",
    "* __`.get()`__ method is like indexing, but no crash for unknown key"
   ]
  },
  {
   "cell_type": "code",
   "execution_count": null,
   "metadata": {},
   "outputs": [],
   "source": [
    "d = {}\n",
    "d['tall'] = 12\n",
    "d['grande'] = 16\n",
    "d['venti'] = 20\n",
    "print(d)"
   ]
  },
  {
   "cell_type": "code",
   "execution_count": null,
   "metadata": {},
   "outputs": [],
   "source": [
    "# keys() function returns a view object, which is dynamic\n",
    "keys = d.keys()\n",
    "print('keys are', d.keys())\n",
    "print('values are', d.values())\n",
    "print('items are', d.items())"
   ]
  },
  {
   "cell_type": "code",
   "execution_count": null,
   "metadata": {},
   "outputs": [],
   "source": [
    "print(keys)"
   ]
  },
  {
   "cell_type": "code",
   "execution_count": null,
   "metadata": {},
   "outputs": [],
   "source": [
    "# now add to the dict...\n",
    "d['trenta'] = 31\n",
    "keys"
   ]
  },
  {
   "cell_type": "code",
   "execution_count": null,
   "metadata": {},
   "outputs": [],
   "source": []
  },
  {
   "cell_type": "markdown",
   "metadata": {},
   "source": [
    "## List Comprehensions\n",
    "* four types\n",
    "  * \"standard\"\n",
    "  * filter\n",
    "  * Cartesian product\n",
    "  * zip\n",
    "* also dict comprehension and set comprehensions"
   ]
  },
  {
   "cell_type": "code",
   "execution_count": null,
   "metadata": {},
   "outputs": [],
   "source": []
  },
  {
   "cell_type": "markdown",
   "metadata": {},
   "source": [
    "## File I/O\n",
    "* files are iterable\n",
    "  * __`for line in file_object:`__\n",
    "* __`with`__ block"
   ]
  },
  {
   "cell_type": "code",
   "execution_count": null,
   "metadata": {},
   "outputs": [],
   "source": []
  },
  {
   "cell_type": "markdown",
   "metadata": {},
   "source": [
    "## More about functions...\n",
    "* positional vs. keyword arguments\n",
    "* __`*args`__\n",
    "* __`**kwargs`__"
   ]
  },
  {
   "cell_type": "code",
   "execution_count": null,
   "metadata": {},
   "outputs": [],
   "source": []
  },
  {
   "cell_type": "markdown",
   "metadata": {},
   "source": [
    "## Exceptions\n",
    "* __`try/except`__\n",
    "* __`else`__ clause\n",
    "* __`finally`__ clause"
   ]
  },
  {
   "cell_type": "code",
   "execution_count": null,
   "metadata": {},
   "outputs": [],
   "source": []
  },
  {
   "cell_type": "markdown",
   "metadata": {},
   "source": [
    "## Command-line arguments\n",
    "* __`sys.argv`__"
   ]
  },
  {
   "cell_type": "code",
   "execution_count": null,
   "metadata": {},
   "outputs": [],
   "source": []
  },
  {
   "cell_type": "markdown",
   "metadata": {},
   "source": [
    "## What else?"
   ]
  },
  {
   "cell_type": "code",
   "execution_count": null,
   "metadata": {},
   "outputs": [],
   "source": []
  }
 ],
 "metadata": {
  "celltoolbar": "Slideshow",
  "kernelspec": {
   "display_name": "Python 3 (ipykernel)",
   "language": "python",
   "name": "python3"
  },
  "language_info": {
   "codemirror_mode": {
    "name": "ipython",
    "version": 3
   },
   "file_extension": ".py",
   "mimetype": "text/x-python",
   "name": "python",
   "nbconvert_exporter": "python",
   "pygments_lexer": "ipython3",
   "version": "3.12.4"
  }
 },
 "nbformat": 4,
 "nbformat_minor": 4
}
